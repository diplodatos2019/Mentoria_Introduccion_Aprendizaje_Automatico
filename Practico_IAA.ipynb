{
 "cells": [
  {
   "cell_type": "markdown",
   "metadata": {},
   "source": [
    "# Practico Mentoria - Introduccion al Aprendizaje Automatico"
   ]
  },
  {
   "cell_type": "markdown",
   "metadata": {},
   "source": [
    "---"
   ]
  },
  {
   "cell_type": "markdown",
   "metadata": {},
   "source": [
    "### Importaciones"
   ]
  },
  {
   "cell_type": "code",
   "execution_count": null,
   "metadata": {},
   "outputs": [],
   "source": [
    "%matplotlib inline\n",
    "\n",
    "import numpy as np\n",
    "import pandas as pd\n",
    "import matplotlib.pyplot as plt\n",
    "import seaborn as sns\n",
    "import scipy as sp\n",
    "\n",
    "from collections import OrderedDict\n",
    "from IPython.display import display\n",
    "\n",
    "from sklearn.model_selection import train_test_split\n",
    "from sklearn.linear_model import LinearRegression, LogisticRegression, Perceptron, Ridge\n",
    "from sklearn.preprocessing import PolynomialFeatures\n",
    "from sklearn.metrics import accuracy_score, mean_squared_error, confusion_matrix\n",
    "from sklearn import preprocessing\n",
    "\n",
    "from ml.visualization import plot_confusion_matrix\n",
    "from utils import balanced_accuracy_score\n",
    "\n",
    "import warnings\n",
    "warnings.filterwarnings('ignore')"
   ]
  },
  {
   "cell_type": "code",
   "execution_count": null,
   "metadata": {},
   "outputs": [],
   "source": [
    "sns.set_style(\"whitegrid\")\n",
    "sns.set_context('talk')"
   ]
  },
  {
   "cell_type": "code",
   "execution_count": null,
   "metadata": {},
   "outputs": [],
   "source": [
    "# Seteamos una semilla para Reproducibilidad\n",
    "np.random.seed(1)"
   ]
  },
  {
   "cell_type": "markdown",
   "metadata": {},
   "source": [
    "---"
   ]
  },
  {
   "cell_type": "markdown",
   "metadata": {},
   "source": [
    "### Carga de los Datesets"
   ]
  },
  {
   "cell_type": "code",
   "execution_count": null,
   "metadata": {},
   "outputs": [],
   "source": [
    "player_df = pd.read_csv('./Datesets/football_player.csv')\n",
    "team_df = pd.read_csv('./Datesets/football_team.csv')\n",
    "match_df = pd.read_csv('./Datesets/football_match.csv')\n",
    "\n",
    "print(\"Shape 'player_df' = {}\".format(player_df.shape))\n",
    "print(\"Shape 'team_df'   = {}\".format(team_df.shape))\n",
    "print(\"Shape 'match_df'  = {}\".format(match_df.shape))"
   ]
  },
  {
   "cell_type": "markdown",
   "metadata": {},
   "source": [
    "---"
   ]
  },
  {
   "cell_type": "markdown",
   "metadata": {},
   "source": [
    "## **Regresion**\n",
    "\n",
    "Vamos a predecir el `overall_rating` de un jugador"
   ]
  },
  {
   "cell_type": "code",
   "execution_count": null,
   "metadata": {},
   "outputs": [],
   "source": [
    "# Separamos el \"target\" del resto del dataset\n",
    "\n",
    "X = player_df.loc[:, player_df.columns != 'overall_rating']\n",
    "y = player_df['overall_rating']"
   ]
  },
  {
   "cell_type": "code",
   "execution_count": null,
   "metadata": {},
   "outputs": [],
   "source": [
    "player_df.dtypes"
   ]
  },
  {
   "cell_type": "markdown",
   "metadata": {},
   "source": [
    "Seleccionamos un feature de los listados en la descripción que no sea categórico, por ejemplo `vision`"
   ]
  },
  {
   "cell_type": "code",
   "execution_count": null,
   "metadata": {},
   "outputs": [],
   "source": [
    "# TODO: modificar esta feature por algún otro (o una combinacion de estos) para ver como cambian los resultados\n",
    "X = X[[\n",
    "    'vision',\n",
    "]]"
   ]
  },
  {
   "cell_type": "markdown",
   "metadata": {},
   "source": [
    "> ### División de datos en conjuntos de entrenamiento y evaluación\n",
    "\n",
    "La primer tarea consiste en dividir el conjunto de datos cargados en el apartado anterior en conjuntos de entrenamiento (o _training_) y evaluación (o _test_).\n",
    "\n",
    "Utilizar aproximadamente 70% de los datos para entrenamiento y 30% para validación.\n",
    "\n",
    "Links:\n",
    "* https://scikit-learn.org/stable/modules/generated/sklearn.model_selection.train_test_split.html"
   ]
  },
  {
   "cell_type": "code",
   "execution_count": null,
   "metadata": {},
   "outputs": [],
   "source": [
    "# TODO"
   ]
  },
  {
   "cell_type": "markdown",
   "metadata": {},
   "source": [
    "> ### Regresion Lineal\n",
    "\n",
    "Link:\n",
    "* https://scikit-learn.org/stable/modules/generated/sklearn.linear_model.LinearRegression.html"
   ]
  },
  {
   "cell_type": "code",
   "execution_count": null,
   "metadata": {},
   "outputs": [],
   "source": [
    "# TODO"
   ]
  },
  {
   "cell_type": "markdown",
   "metadata": {},
   "source": [
    "Evaluamos el desempeño del clasificador utilizando la media del error cuadrado (MSE o Mean Squared Error) sobre el conjunto de datos de entrenamiento (`X_train`, `y_train`) y lo comparamos con el de validación (`X_val`, `y_test`).  \n",
    "Mientras más cercano a cero mejor"
   ]
  },
  {
   "cell_type": "code",
   "execution_count": null,
   "metadata": {},
   "outputs": [],
   "source": [
    "print(\n",
    "    \"MSE para entrenamiento: {:.2f}\"\n",
    "    .format(mean_squared_error(y_train, model.predict(X_train)))\n",
    ")\n",
    "print(\n",
    "    \"MSE para validación   : {:.2f}\"\n",
    "    .format(mean_squared_error(y_test, model.predict(X_test)))\n",
    ")"
   ]
  },
  {
   "cell_type": "markdown",
   "metadata": {},
   "source": [
    "#### **Visualizacion**\n",
    "\n",
    "**Warning**: Tener en cuenta que si son dos o mas features no se va a poder visualizar"
   ]
  },
  {
   "cell_type": "code",
   "execution_count": null,
   "metadata": {},
   "outputs": [],
   "source": [
    "plt.figure(figsize=(14, 5), dpi= 80, facecolor='w', edgecolor='k')\n",
    "\n",
    "X_range_start = np.min(np.r_[X_train, X_test])\n",
    "X_range_stop = np.max(np.r_[X_train, X_test])\n",
    "y_range_start = np.min(np.r_[y_train, y_test])\n",
    "y_range_stop = np.max(np.r_[y_train, y_test])\n",
    "X_linspace = np.linspace(X_range_start, X_range_stop, 200).reshape(-1, 1)\n",
    "\n",
    "# Conjunto de entrenamiento\n",
    "plt.subplot(1, 2, 1)\n",
    "plt.scatter(X_train, y_train, facecolor=\"dodgerblue\", edgecolor=\"k\", label=\"datos\")\n",
    "plt.plot(X_linspace, model.predict(X_linspace), color=\"tomato\", label=\"modelo\")\n",
    "plt.ylim(y_range_start, y_range_stop)\n",
    "plt.title(\"Conjunto de Entrenamiento\")\n",
    "\n",
    "# Conjunto de validación\n",
    "plt.subplot(1, 2, 2)\n",
    "plt.scatter(X_test, y_test, facecolor=\"dodgerblue\", edgecolor=\"k\", label=\"datos\")\n",
    "plt.plot(X_linspace, model.predict(X_linspace), color=\"tomato\", label=\"modelo\")\n",
    "plt.ylim(y_range_start, y_range_stop)\n",
    "plt.title(\"Conjunto de Validación\")\n",
    "\n",
    "plt.show()"
   ]
  },
  {
   "cell_type": "markdown",
   "metadata": {},
   "source": [
    "> ### Regresión Polinomial\n",
    "\n",
    "Link:\n",
    "* https://scikit-learn.org/stable/modules/generated/sklearn.preprocessing.PolynomialFeatures.html"
   ]
  },
  {
   "cell_type": "code",
   "execution_count": null,
   "metadata": {},
   "outputs": [],
   "source": [
    "polynomial_degree = # TODO: Probar distintos grados del polinomio\n",
    "\n",
    "poly_features = PolynomialFeatures(polynomial_degree)\n",
    "poly_features.fit(X_train)\n",
    "X_poly_train = poly_features.transform(X_train)\n",
    "X_poly_test = poly_features.transform(X_test)\n",
    "\n",
    "model = LinearRegression()\n",
    "model.fit(X_poly_train, y_train)\n",
    "\n",
    "print(\n",
    "    \"MSE para entrenamiento: {:.2f}\"\n",
    "    .format(mean_squared_error(y_train, model.predict(X_poly_train)))\n",
    ")\n",
    "print(\n",
    "    \"MSE para validación   : {:.2f}\"\n",
    "    .format(mean_squared_error(y_test, model.predict(X_poly_test)))\n",
    ")"
   ]
  },
  {
   "cell_type": "markdown",
   "metadata": {},
   "source": [
    "#### **Visualizacion**\n",
    "\n",
    "**Warning**: Tener en cuenta que si son mas de dos features no se va a poder visualizar"
   ]
  },
  {
   "cell_type": "code",
   "execution_count": null,
   "metadata": {},
   "outputs": [],
   "source": [
    "plt.figure(figsize=(14, 5), dpi=80, facecolor='w', edgecolor='k')\n",
    "\n",
    "X_range_start = np.min(np.r_[X_train, X_test])\n",
    "X_range_stop = np.max(np.r_[X_train, X_test])\n",
    "y_range_start = np.min(np.r_[y_train, y_test])\n",
    "y_range_stop = np.max(np.r_[y_train, y_test])\n",
    "X_linspace = np.linspace(X_range_start, X_range_stop, 200).reshape(-1, 1)\n",
    "X_linspace_poly = poly_features.transform(X_linspace)\n",
    "\n",
    "# Conjunto de entrenamiento\n",
    "plt.subplot(1, 2, 1)\n",
    "plt.scatter(X_train, y_train, facecolor=\"dodgerblue\", edgecolor=\"k\", label=\"datos\")\n",
    "plt.plot(X_linspace, model.predict(X_linspace_poly), color=\"tomato\", label=\"modelo\")\n",
    "plt.ylim(y_range_start, y_range_stop)\n",
    "plt.title(\"Conjunto de Entrenamiento\")\n",
    "\n",
    "# Conjunto de validación\n",
    "plt.subplot(1, 2, 2)\n",
    "plt.scatter(X_test, y_test, facecolor=\"dodgerblue\", edgecolor=\"k\", label=\"datos\")\n",
    "plt.plot(X_linspace, model.predict(X_linspace_poly), color=\"tomato\", label=\"modelo\")\n",
    "plt.ylim(y_range_start, y_range_stop)\n",
    "plt.title(\"Conjunto de Validación\")\n",
    "\n",
    "plt.show()"
   ]
  },
  {
   "cell_type": "markdown",
   "metadata": {},
   "source": [
    "---"
   ]
  },
  {
   "cell_type": "markdown",
   "metadata": {},
   "source": [
    "## **Clasificacion Multiclase**\n",
    "\n",
    "Vamos a predecir el `attacking_work_rate` de un jugador"
   ]
  },
  {
   "cell_type": "code",
   "execution_count": null,
   "metadata": {},
   "outputs": [],
   "source": [
    "# Separamos el \"target\" del resto del dataset\n",
    "\n",
    "X = player_df.loc[:, player_df.columns != 'attacking_work_rate']\n",
    "y = player_df['attacking_work_rate']"
   ]
  },
  {
   "cell_type": "code",
   "execution_count": null,
   "metadata": {},
   "outputs": [],
   "source": [
    "# TODO: Codificar la variable categorica `attacking_work_rate` como una variable numerica"
   ]
  },
  {
   "cell_type": "markdown",
   "metadata": {},
   "source": [
    "Seleccionamos un feature de los listados en la descripción que no sea categórico, por ejemplo `vision`"
   ]
  },
  {
   "cell_type": "code",
   "execution_count": null,
   "metadata": {},
   "outputs": [],
   "source": [
    "# TODO: modificar esta feature por algún otro (o una combinacion de estos) para ver como cambian los resultados\n",
    "X = X[[\n",
    "    'vision',\n",
    "]]"
   ]
  },
  {
   "cell_type": "markdown",
   "metadata": {},
   "source": [
    "> ### División de datos en conjuntos de entrenamiento y evaluación\n",
    "\n",
    "La primer tarea consiste en dividir el conjunto de datos cargados en el apartado anterior en conjuntos de entrenamiento (o _training_) y evaluación (o _test_).\n",
    "\n",
    "Utilizar aproximadamente 70% de los datos para entrenamiento y 30% para validación."
   ]
  },
  {
   "cell_type": "code",
   "execution_count": null,
   "metadata": {},
   "outputs": [],
   "source": [
    "# TODO"
   ]
  },
  {
   "cell_type": "code",
   "execution_count": null,
   "metadata": {},
   "outputs": [],
   "source": [
    "penalty = # TODO: Tipo de regularización: l1 (valor absoluto), l2 (cuadrados).\n",
    "alpha = # TODO: Parámetro de regularización. También denominado como parámetro `lambda`. Debe ser mayor que 0.\n",
    "\n",
    "model = LogisticRegression(penalty=penalty, C=1./alpha, multi_class='ovr')\n",
    "model.fit(X_train, y_train)\n",
    "\n",
    "print(\"Accuracy para entrenamiento: {:.2f}\".format(balanced_accuracy_score(y_train, model.predict(X_train))))\n",
    "print(\"Accuracy para validación   : {:.2f}\".format(balanced_accuracy_score(y_test, model.predict(X_test))))"
   ]
  },
  {
   "cell_type": "markdown",
   "metadata": {},
   "source": [
    "#### **Matriz de Confusion**"
   ]
  },
  {
   "cell_type": "code",
   "execution_count": null,
   "metadata": {},
   "outputs": [],
   "source": [
    "plt.figure(figsize=(14, 10), dpi= 80, facecolor='w', edgecolor='k')\n",
    "\n",
    "plt.subplot(2, 2, 1)\n",
    "plot_confusion_matrix(\n",
    "    confusion_matrix(y_train, model.predict(X_train)),\n",
    "    classes=np.unique(y),\n",
    "    title='Matriz de confusión para entrenamiento (sin normalizar)'\n",
    ")\n",
    "\n",
    "plt.subplot(2, 2, 3)\n",
    "plot_confusion_matrix(\n",
    "    confusion_matrix(y_train, model.predict(X_train)),\n",
    "    classes=np.unique(y),\n",
    "    normalize=True,\n",
    "    title='Matriz de confusión para entrenamiento (normalizando)'\n",
    ")\n",
    "\n",
    "plt.subplot(2, 2, 2)\n",
    "plot_confusion_matrix(\n",
    "    confusion_matrix(y_test, model.predict(X_test)),\n",
    "    classes=np.unique(y),\n",
    "    title='Matriz de confusión para validación (sin normalizar)'\n",
    ")\n",
    "\n",
    "plt.subplot(2, 2, 4)\n",
    "plot_confusion_matrix(\n",
    "    confusion_matrix(y_test, model.predict(X_test)),\n",
    "    classes=np.unique(y),\n",
    "    normalize=True,\n",
    "    title='Matriz de confusión para validación (normalizando)'\n",
    ")\n",
    "\n",
    "plt.show()"
   ]
  },
  {
   "cell_type": "code",
   "execution_count": null,
   "metadata": {},
   "outputs": [],
   "source": []
  },
  {
   "cell_type": "markdown",
   "metadata": {},
   "source": [
    "---"
   ]
  },
  {
   "cell_type": "markdown",
   "metadata": {},
   "source": [
    "**Comunicación de Resultados**\n",
    "\n",
    "Se pide que toda esta información no quede plasmada solamente en un Jupyter Notebook, sino que se diagrame una comunicación en formato textual o interactivo (Google Docs, PDF o Markdown por ejemplo).\n",
    "\n",
    "La comunicación debe estar apuntada a un público técnico pero sin conocimiento del tema particular, como por ejemplo, sus compañeros de clase."
   ]
  },
  {
   "cell_type": "code",
   "execution_count": null,
   "metadata": {},
   "outputs": [],
   "source": []
  }
 ],
 "metadata": {
  "kernelspec": {
   "display_name": "Python 3",
   "language": "python",
   "name": "python3"
  },
  "language_info": {
   "codemirror_mode": {
    "name": "ipython",
    "version": 3
   },
   "file_extension": ".py",
   "mimetype": "text/x-python",
   "name": "python",
   "nbconvert_exporter": "python",
   "pygments_lexer": "ipython3",
   "version": "3.6.7"
  }
 },
 "nbformat": 4,
 "nbformat_minor": 2
}
